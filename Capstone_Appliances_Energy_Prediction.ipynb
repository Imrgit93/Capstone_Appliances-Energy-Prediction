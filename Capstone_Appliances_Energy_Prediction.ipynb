{
  "nbformat": 4,
  "nbformat_minor": 0,
  "metadata": {
    "colab": {
      "private_outputs": true,
      "provenance": [],
      "collapsed_sections": [
        "vncDsAP0Gaoa",
        "FJNUwmbgGyua",
        "w6K7xa23Elo4",
        "yQaldy8SH6Dl",
        "mDgbUHAGgjLW",
        "K5QZ13OEpz2H",
        "lQ7QKXXCp7Bj",
        "448CDAPjqfQr",
        "KSlN3yHqYklG",
        "t6dVpIINYklI",
        "ijmpgYnKYklI",
        "-JiQyfWJYklI",
        "EM7whBJCYoAo",
        "fge-S5ZAYoAp",
        "85gYPyotYoAp",
        "RoGjAbkUYoAp",
        "4Of9eVA-YrdM",
        "iky9q4vBYrdO",
        "F6T5p64dYrdO",
        "y-Ehk30pYrdP",
        "bamQiAODYuh1",
        "QHF8YVU7Yuh3",
        "GwzvFGzlYuh3",
        "qYpmQ266Yuh3",
        "OH-pJp9IphqM",
        "bbFf2-_FphqN",
        "_ouA3fa0phqN",
        "Seke61FWphqN",
        "PIIx-8_IphqN",
        "t27r6nlMphqO",
        "r2jJGEOYphqO",
        "b0JNsNcRphqO",
        "BZR9WyysphqO",
        "jj7wYXLtphqO",
        "eZrbJ2SmphqO",
        "rFu4xreNphqO",
        "YJ55k-q6phqO",
        "gCFgpxoyphqP",
        "OVtJsKN_phqQ",
        "lssrdh5qphqQ",
        "U2RJ9gkRphqQ",
        "1M8mcRywphqQ",
        "tgIPom80phqQ",
        "JMzcOPDDphqR",
        "x-EpHcCOp1ci",
        "X_VqEhTip1ck",
        "8zGJKyg5p1ck",
        "PVzmfK_Ep1ck",
        "n3dbpmDWp1ck",
        "ylSl6qgtp1ck",
        "ZWILFDl5p1ck",
        "M7G43BXep1ck",
        "Ag9LCva-p1cl",
        "E6MkPsBcp1cl",
        "2cELzS2fp1cl",
        "3MPXvC8up1cl",
        "NC_X3p0fY2L0",
        "UV0SzAkaZNRQ",
        "YPEH6qLeZNRQ",
        "q29F0dvdveiT",
        "EXh0U9oCveiU",
        "22aHeOlLveiV",
        "g-ATYxFrGrvw",
        "Yfr_Vlr8HBkt",
        "8yEUt7NnHlrM",
        "tEA2Xm5dHt1r",
        "I79__PHVH19G",
        "Ou-I18pAyIpj",
        "fF3858GYyt-u",
        "4_0_7-oCpUZd",
        "hwyV_J3ipUZe",
        "3yB-zSqbpUZe",
        "dEUvejAfpUZe",
        "Fd15vwWVpUZf",
        "bn_IUdTipZyH",
        "49K5P_iCpZyH",
        "Nff-vKELpZyI",
        "kLW572S8pZyI",
        "dWbDXHzopZyI",
        "yLjJCtPM0KBk",
        "xiyOF9F70UgQ",
        "7wuGOrhz0itI",
        "id1riN9m0vUs",
        "578E2V7j08f6",
        "89xtkJwZ18nB",
        "67NQN5KX2AMe",
        "Iwf50b-R2tYG",
        "GMQiZwjn3iu7",
        "WVIkgGqN3qsr",
        "XkPnILGE3zoT",
        "Hlsf0x5436Go",
        "mT9DMSJo4nBL",
        "c49ITxTc407N",
        "OeJFEK0N496M",
        "9ExmJH0g5HBk",
        "cJNqERVU536h",
        "k5UmGsbsOxih",
        "T0VqWOYE6DLQ",
        "qBMux9mC6MCf",
        "-oLEiFgy-5Pf",
        "C74aWNz2AliB",
        "2DejudWSA-a0",
        "pEMng2IbBLp7",
        "rAdphbQ9Bhjc",
        "TNVZ9zx19K6k",
        "nqoHp30x9hH9",
        "rMDnDkt2B6du",
        "yiiVWRdJDDil",
        "1UUpS68QDMuG",
        "kexQrXU-DjzY",
        "T5CmagL3EC8N",
        "BhH2vgX9EjGr",
        "qjKvONjwE8ra",
        "P1XJ9OREExlT",
        "VFOzZv6IFROw",
        "TIqpNgepFxVj",
        "VfCC591jGiD4",
        "OB4l2ZhMeS1U",
        "ArJBuiUVfxKd",
        "4qY1EAkEfxKe",
        "PiV4Ypx8fxKe",
        "TfvqoZmBfxKf",
        "dJ2tPlVmpsJ0",
        "JWYfwnehpsJ1",
        "-jK_YjpMpsJ2",
        "HAih1iBOpsJ2",
        "zVGeBEFhpsJ2",
        "bmKjuQ-FpsJ3",
        "Fze-IPXLpx6K",
        "7AN1z2sKpx6M",
        "9PIHJqyupx6M",
        "_-qAgymDpx6N",
        "Z-hykwinpx6N",
        "h_CCil-SKHpo",
        "cBFFvTBNJzUa",
        "HvGl1hHyA_VK",
        "EyNgTHvd2WFk",
        "KH5McJBi2d8v",
        "iW_Lq9qf2h6X",
        "-Kee-DAl2viO",
        "gCX9965dhzqZ",
        "gIfDvo9L0UH2"
      ],
      "include_colab_link": true
    },
    "kernelspec": {
      "name": "python3",
      "display_name": "Python 3"
    },
    "language_info": {
      "name": "python"
    },
    "gpuClass": "standard"
  },
  "cells": [
    {
      "cell_type": "markdown",
      "metadata": {
        "id": "view-in-github",
        "colab_type": "text"
      },
      "source": [
        "<a href=\"https://colab.research.google.com/github/Imrgit93/Capstone_Appliances-Energy-Prediction/blob/main/Capstone_Appliances_Energy_Prediction.ipynb\" target=\"_parent\"><img src=\"https://colab.research.google.com/assets/colab-badge.svg\" alt=\"Open In Colab\"/></a>"
      ]
    },
    {
      "cell_type": "markdown",
      "source": [
        "# **Appliances Energy Prediction**    - \n",
        "\n"
      ],
      "metadata": {
        "id": "vncDsAP0Gaoa"
      }
    },
    {
      "cell_type": "markdown",
      "source": [
        "##### **Project Type**    - Regression\n",
        "##### **Contribution**    - Individual\n"
      ],
      "metadata": {
        "id": "beRrZCGUAJYm"
      }
    },
    {
      "cell_type": "markdown",
      "source": [
        "# **Project Summary -**\n",
        "\n"
      ],
      "metadata": {
        "id": "FJNUwmbgGyua"
      }
    },
    {
      "cell_type": "markdown",
      "source": [
        "Data-driven prediction of energy use of appliances\n",
        "The data set is at 10 min for about 4.5 months. The house temperature and humidity conditions\n",
        "were monitored with a ZigBee wireless sensor network. Each wireless node transmitted the\n",
        "temperature and humidity conditions around 3.3 min. Then, the wireless data was averaged for\n",
        "10 minutes periods. The energy data was logged every 10 minutes with m-bus energy meters.\n",
        "Weather from the nearest airport weather station (Chievres Airport, Belgium) was downloaded\n",
        "from a public data set from Reliable Prognosis (rp5.ru) and merged together with the\n",
        "experimental data sets using the date and time column.\n",
        "\n",
        "\n",
        "Data Description date time year-month-day hour:minute:second\n",
        "\n",
        "date - time year-month-day hour:minute:second\n",
        "\n",
        "Appliances - energy use in Wh (Dependent variable)\n",
        "\n",
        "lights - energy use of light fixtures in the house in Wh (Drop this column)\n",
        "\n",
        "T1 - Temperature in kitchen area, in Celsius\n",
        "\n",
        "RH1 - Humidity in kitchen area, in %\n",
        "\n",
        "T2 - Temperature in living room area, in Celsius\n",
        "\n",
        "RH2 - Humidity in living room area, in %\n",
        "\n",
        "T3 - Temperature in laundry room area\n",
        "\n",
        "RH3 - Humidity in laundry room area, in %\n",
        "\n",
        "T4 - Temperature in office room, in Celsius\n",
        "\n",
        "RH4 - Humidity in office room, in %\n",
        "\n",
        "T5 - Temperature in bathroom, in Celsius\n",
        "\n",
        "RH5 - Humidity in bathroom, in %\n",
        "\n",
        "T6 - Temperature outside the building (north side), in Celsius\n",
        "\n",
        "RH6 - Humidity outside the building (north side), in %\n",
        "\n",
        "T7 - Temperature in ironing room, in Celsius\n",
        "\n",
        "RH7 - Humidity in ironing room, in %\n",
        "\n",
        "T8 - Temperature in teenager room 2, in Celsius\n",
        "\n",
        "RH8 - Humidity in teenager room 2, in %\n",
        "\n",
        "T9 - Temperature in parents room, in Celsius\n",
        "\n",
        "RH9 - Humidity in parents room, in %\n",
        "\n",
        "T_out - Temperature outside (from Chievres weather station), in Celsius\n",
        "\n",
        "Pressure - (from Chievres weather station), in mm Hg RHout\n",
        "\n",
        "Humidity - outside (from Chievres weather station), in %\n",
        "\n",
        "Wind speed - (from Chievres weather station), in m/s\n",
        "\n",
        "Visibility - (from Chievres weather station), in km\n",
        "\n",
        "Tdewpoint - (from Chievres weather station), Â°C\n",
        "\n",
        "rv1 - Random variable 1, nondimensional\n",
        "\n",
        "rv2 - Random variable 2, nondimensional\n",
        "\n",
        "**Where indicated, hourly data (then interpolated) from the nearest airport weather station(Chievres Airport, Belgium) was downloaded from a public data set from Reliable Prognosis,rp5.ru. Permission was obtained from Reliable Prognosis for the distribution of the 4.5 months of weather data.**\n"
      ],
      "metadata": {
        "id": "F6v_1wHtG2nS"
      }
    },
    {
      "cell_type": "markdown",
      "source": [
        "# **GitHub Link -**"
      ],
      "metadata": {
        "id": "w6K7xa23Elo4"
      }
    },
    {
      "cell_type": "markdown",
      "source": [
        "Provide your GitHub Link here."
      ],
      "metadata": {
        "id": "h1o69JH3Eqqn"
      }
    },
    {
      "cell_type": "markdown",
      "source": [
        "# **Problem Statement**\n"
      ],
      "metadata": {
        "id": "yQaldy8SH6Dl"
      }
    },
    {
      "cell_type": "markdown",
      "source": [
        "**Write Problem Statement Here.**"
      ],
      "metadata": {
        "id": "DpeJGUA3kjGy"
      }
    },
    {
      "cell_type": "markdown",
      "source": [
        "**It is very important to meet the supply and demand of electricity, as the energy consumption is increasing in recent years.\n",
        "However, when comes to domestic consumers, electricity consumption of house depends on type and quantity of house hold appliances which in turn influenced by weather conditions.**\n",
        "\n",
        "The main objective is to build a predictive model, which could help in predicting the energy consumption.\n",
        "\n",
        "Along with building model ,will look in some feature behaviour.\n",
        "\n",
        "\n",
        "1) what is monthly meter reading ?\n",
        "\n",
        "2) What is the meter reading on hourly basis?\n",
        "\n",
        "3) How is the relationship between temperature and humidity ?\n",
        "\n",
        "4) what is monthly average temperature inside and outside ?\n",
        "\n",
        "5) What is the temperature fluctuation in each room ?\n",
        "\n",
        "6) What is daily wind speed and visibiity ?\n",
        "\n",
        "7) How was visibility with outside temperature?\n",
        "\n",
        "8) is there any difference in meter reading when compaired to inside and outside temperature?"
      ],
      "metadata": {
        "id": "w0NnRXGPvoM8"
      }
    },
    {
      "cell_type": "markdown",
      "source": [
        "# **General Guidelines** : -  "
      ],
      "metadata": {
        "id": "mDgbUHAGgjLW"
      }
    },
    {
      "cell_type": "markdown",
      "source": [
        "1.   Well-structured, formatted, and commented code is required. \n",
        "2.   Exception Handling, Production Grade Code & Deployment Ready Code will be a plus. Those students will be awarded some additional credits. \n",
        "     \n",
        "     The additional credits will have advantages over other students during Star Student selection.\n",
        "       \n",
        "             [ Note: - Deployment Ready Code is defined as, the whole .ipynb notebook should be executable in one go\n",
        "                       without a single error logged. ]\n",
        "\n",
        "3.   Each and every logic should have proper comments.\n",
        "4. You may add as many number of charts you want. Make Sure for each and every chart the following format should be answered.\n",
        "        \n",
        "\n",
        "```\n",
        "# Chart visualization code\n",
        "```\n",
        "            \n",
        "\n",
        "*   Why did you pick the specific chart?\n",
        "*   What is/are the insight(s) found from the chart?\n",
        "* Will the gained insights help creating a positive business impact? \n",
        "Are there any insights that lead to negative growth? Justify with specific reason.\n",
        "\n",
        "5. You have to create at least 15 logical & meaningful charts having important insights.\n",
        "\n",
        "\n",
        "[ Hints : - Do the Vizualization in  a structured way while following \"UBM\" Rule. \n",
        "\n",
        "U - Univariate Analysis,\n",
        "\n",
        "B - Bivariate Analysis (Numerical - Categorical, Numerical - Numerical, Categorical - Categorical)\n",
        "\n",
        "M - Multivariate Analysis\n",
        " ]\n",
        "\n",
        "\n",
        "\n",
        "\n",
        "\n",
        "6. You may add more ml algorithms for model creation. Make sure for each and every algorithm, the following format should be answered.\n",
        "\n",
        "\n",
        "*   Explain the ML Model used and it's performance using Evaluation metric Score Chart.\n",
        "\n",
        "\n",
        "*   Cross- Validation & Hyperparameter Tuning\n",
        "\n",
        "*   Have you seen any improvement? Note down the improvement with updates Evaluation metric Score Chart.\n",
        "\n",
        "*   Explain each evaluation metric's indication towards business and the business impact pf the ML model used.\n",
        "\n",
        "\n",
        "\n",
        "\n",
        "\n",
        "\n",
        "\n",
        "\n",
        "\n",
        "\n",
        "\n",
        "\n",
        "\n",
        "\n",
        "\n",
        "\n",
        "\n",
        "\n"
      ],
      "metadata": {
        "id": "ZrxVaUj-hHfC"
      }
    },
    {
      "cell_type": "markdown",
      "source": [
        "# ***Let's Begin !***"
      ],
      "metadata": {
        "id": "O_i_v8NEhb9l"
      }
    },
    {
      "cell_type": "markdown",
      "source": [
        "## ***1. Know Your Data***"
      ],
      "metadata": {
        "id": "HhfV-JJviCcP"
      }
    },
    {
      "cell_type": "markdown",
      "source": [
        "### Import Libraries"
      ],
      "metadata": {
        "id": "Y3lxredqlCYt"
      }
    },
    {
      "cell_type": "code",
      "source": [
        "# Import Libraries\n",
        "import numpy as np\n",
        "import pandas as pd\n",
        "import matplotlib.pyplot as plt\n",
        "%matplotlib inline\n",
        "import seaborn as sns\n",
        "import plotly.express as px\n",
        "from scipy import stats\n",
        "import warnings\n",
        "warnings.filterwarnings('ignore')"
      ],
      "metadata": {
        "id": "M8Vqi-pPk-HR"
      },
      "execution_count": null,
      "outputs": []
    },
    {
      "cell_type": "code",
      "source": [
        "from sklearn.linear_model import LinearRegression\n",
        "from sklearn.model_selection import train_test_split\n",
        "from sklearn.linear_model import Ridge, Lasso\n",
        "from math import sqrt\n",
        "import plotly.express as px\n",
        "from sklearn.preprocessing import StandardScaler\n",
        "from sklearn.model_selection import GridSearchCV\n",
        "from sklearn.model_selection import cross_val_score\n",
        "from sklearn.metrics import mean_squared_error\n",
        "from sklearn.metrics import r2_score"
      ],
      "metadata": {
        "id": "IAnFgWKUZKmr"
      },
      "execution_count": null,
      "outputs": []
    },
    {
      "cell_type": "markdown",
      "source": [
        "### Dataset Loading"
      ],
      "metadata": {
        "id": "3RnN4peoiCZX"
      }
    },
    {
      "cell_type": "code",
      "source": [
        "# Load Dataset\n",
        "from google.colab import drive\n",
        "drive.mount('/content/drive')"
      ],
      "metadata": {
        "id": "4CkvbW_SlZ_R"
      },
      "execution_count": null,
      "outputs": []
    },
    {
      "cell_type": "code",
      "source": [
        "Aep_df = pd.read_csv('/content/drive/MyDrive/Alma Better/Capstone _Project/LR_Appliances Energy Prediction/data_application_energy.csv')"
      ],
      "metadata": {
        "id": "PeqzGeE6af3M"
      },
      "execution_count": null,
      "outputs": []
    },
    {
      "cell_type": "markdown",
      "source": [
        "### Dataset First View"
      ],
      "metadata": {
        "id": "x71ZqKXriCWQ"
      }
    },
    {
      "cell_type": "code",
      "source": [
        "# Dataset First Look\n",
        "Aep_df.head()"
      ],
      "metadata": {
        "id": "LWNFOSvLl09H"
      },
      "execution_count": null,
      "outputs": []
    },
    {
      "cell_type": "code",
      "source": [
        "Aep_df.tail()"
      ],
      "metadata": {
        "id": "7rtkYxVwoeQK"
      },
      "execution_count": null,
      "outputs": []
    },
    {
      "cell_type": "markdown",
      "source": [
        "### Dataset Rows & Columns count"
      ],
      "metadata": {
        "id": "7hBIi_osiCS2"
      }
    },
    {
      "cell_type": "code",
      "source": [
        "# Dataset Rows & Columns count\n",
        "Aep_df.shape"
      ],
      "metadata": {
        "id": "Kllu7SJgmLij"
      },
      "execution_count": null,
      "outputs": []
    },
    {
      "cell_type": "markdown",
      "source": [
        "### Dataset Information"
      ],
      "metadata": {
        "id": "JlHwYmJAmNHm"
      }
    },
    {
      "cell_type": "code",
      "source": [
        "# Dataset Info\n",
        "Aep_df.info()"
      ],
      "metadata": {
        "id": "e9hRXRi6meOf"
      },
      "execution_count": null,
      "outputs": []
    },
    {
      "cell_type": "markdown",
      "source": [
        "#### Duplicate Values"
      ],
      "metadata": {
        "id": "35m5QtbWiB9F"
      }
    },
    {
      "cell_type": "code",
      "source": [
        "# Dataset Duplicate Value Count\n",
        "Aep_df.duplicated().value_counts()"
      ],
      "metadata": {
        "id": "1sLdpKYkmox0"
      },
      "execution_count": null,
      "outputs": []
    },
    {
      "cell_type": "markdown",
      "source": [
        "#### Missing Values/Null Values"
      ],
      "metadata": {
        "id": "PoPl-ycgm1ru"
      }
    },
    {
      "cell_type": "code",
      "source": [
        "# Missing Values/Null Values Count\n",
        "Aep_df.isna().sum()"
      ],
      "metadata": {
        "id": "GgHWkxvamxVg"
      },
      "execution_count": null,
      "outputs": []
    },
    {
      "cell_type": "code",
      "source": [
        "# Dropping Unneccesary columns\n",
        "Aep_df.drop(['lights'],inplace=True,axis=1)"
      ],
      "metadata": {
        "id": "3q5wnI3om9sJ"
      },
      "execution_count": null,
      "outputs": []
    },
    {
      "cell_type": "markdown",
      "source": [
        "### What did you know about your dataset?"
      ],
      "metadata": {
        "id": "H0kj-8xxnORC"
      }
    },
    {
      "cell_type": "markdown",
      "source": [
        "Data set have 19735 rows and 29 columns.\n",
        "\n",
        "there no duplicate values\n",
        "\n",
        "There are no null values either,very fortunate!\n",
        "\n",
        "will drop the light feature.\n",
        "\n",
        "From above head and tail it is seen that data in rv1 and rv2 are similar,in further process will try to use only one."
      ],
      "metadata": {
        "id": "gfoNAAC-nUe_"
      }
    },
    {
      "cell_type": "markdown",
      "source": [
        "## ***2. Understanding Your Variables***"
      ],
      "metadata": {
        "id": "nA9Y7ga8ng1Z"
      }
    },
    {
      "cell_type": "code",
      "source": [
        "# Dataset Columns\n",
        "Aep_df.columns"
      ],
      "metadata": {
        "id": "j7xfkqrt5Ag5"
      },
      "execution_count": null,
      "outputs": []
    },
    {
      "cell_type": "code",
      "source": [
        "# making a Copy\n",
        "Aep_df1 = Aep_df.copy()"
      ],
      "metadata": {
        "id": "lZjeWBsdQk5F"
      },
      "execution_count": null,
      "outputs": []
    },
    {
      "cell_type": "code",
      "source": [
        "# rename the colum names as it will be easer to understand.\n",
        "Aep_df1.rename(columns={'Appliances':'meter_reading','T1':'kitchen_temp','RH_1':'kitchen_hum','T2': 'living_room_temp','RH_2': 'living_room_hum','T3':'laundry_room_temp','RH_3':'laundry_room_hum',\n",
        "                               'T4':'office_room_temp','RH_4':'office_room_hum','T5':'bathroom_temp','RH_5':'bathroom_hum','T6':'outside_building_temp','RH_6':'outside_building_hum',\n",
        "                               'T7':'ironing_room_temp','RH_7':'ironing_room_hum','T8':'teenager_room_temp','RH_8':'teenager_room_hum',\n",
        "                               'T9':'parents_room_temp','RH_9':'parents_room_hum','T_out':'Chievres_weather_station_temp','RH_out':'Chievres_weather_station_hum'},inplace=True)"
      ],
      "metadata": {
        "id": "orPxBi26QZA9"
      },
      "execution_count": null,
      "outputs": []
    },
    {
      "cell_type": "code",
      "source": [
        "Aep_df1.columns"
      ],
      "metadata": {
        "id": "YJg_7hPLSb0e"
      },
      "execution_count": null,
      "outputs": []
    },
    {
      "cell_type": "code",
      "source": [
        "# Dataset Describe\n",
        "Aep_df1.describe()"
      ],
      "metadata": {
        "id": "DnOaZdaE5Q5t"
      },
      "execution_count": null,
      "outputs": []
    },
    {
      "cell_type": "markdown",
      "source": [
        "### Variables Description "
      ],
      "metadata": {
        "id": "PBTbrJXOngz2"
      }
    },
    {
      "cell_type": "markdown",
      "source": [
        "date - time year-month-day hour:minute:second\n",
        "\n",
        "Appliances - energy use in Wh (Dependent variable)\n",
        "\n",
        "lights - energy use of light fixtures in the house in Wh (Drop this column)\n",
        "\n",
        "T1 - Temperature in kitchen area, in Celsius\n",
        "\n",
        "RH1 - Humidity in kitchen area, in %\n",
        "\n",
        "T2 - Temperature in living room area, in Celsius\n",
        "\n",
        "RH2 - Humidity in living room area, in %\n",
        "\n",
        "T3 - Temperature in laundry room area\n",
        "\n",
        "RH3 - Humidity in laundry room area, in %\n",
        "\n",
        "T4 - Temperature in office room, in Celsius\n",
        "\n",
        "RH4 - Humidity in office room, in %\n",
        "\n",
        "T5 - Temperature in bathroom, in Celsius\n",
        "\n",
        "RH5 - Humidity in bathroom, in %\n",
        "\n",
        "T6 - Temperature outside the building (north side), in Celsius\n",
        "\n",
        "RH6 - Humidity outside the building (north side), in %\n",
        "\n",
        "T7 - Temperature in ironing room, in Celsius\n",
        "\n",
        "RH7 - Humidity in ironing room, in %\n",
        "\n",
        "T8 - Temperature in teenager room 2, in Celsius\n",
        "\n",
        "RH8 - Humidity in teenager room 2, in %\n",
        "\n",
        "T9 - Temperature in parents room, in Celsius\n",
        "\n",
        "RH9 - Humidity in parents room, in %\n",
        "\n",
        "T_out - Temperature outside (from Chievres weather station), in Celsius\n",
        "\n",
        "Pressure - (from Chievres weather station), in mm Hg RHout\n",
        "\n",
        "Humidity - outside (from Chievres weather station), in %\n",
        "\n",
        "Wind speed - (from Chievres weather station), in m/s\n",
        "\n",
        "Visibility - (from Chievres weather station), in km\n",
        "\n",
        "Tdewpoint - (from Chievres weather station), Â°C\n",
        "\n",
        "rv1 - Random variable 1, nondimensional\n",
        "\n",
        "rv2 - Random variable 2, nondimensional"
      ],
      "metadata": {
        "id": "aJV4KIxSnxay"
      }
    },
    {
      "cell_type": "markdown",
      "source": [
        "### Check Unique Values for each variable."
      ],
      "metadata": {
        "id": "u3PMJOP6ngxN"
      }
    },
    {
      "cell_type": "code",
      "source": [
        "# Check Unique Values for each variable.\n",
        "for i in Aep_df1.columns.tolist():\n",
        "  print(\"No. of unique values in \",i,\"is\",Aep_df1[i].nunique(),\".\")"
      ],
      "metadata": {
        "id": "zms12Yq5n-jE"
      },
      "execution_count": null,
      "outputs": []
    },
    {
      "cell_type": "markdown",
      "source": [
        "## 3. ***Data Wrangling***"
      ],
      "metadata": {
        "id": "dauF4eBmngu3"
      }
    },
    {
      "cell_type": "markdown",
      "source": [
        "### Data Wrangling Code"
      ],
      "metadata": {
        "id": "bKJF3rekwFvQ"
      }
    },
    {
      "cell_type": "code",
      "source": [
        "# Write your code to make your dataset analysis ready.\n",
        "# average of temp and humidity\n",
        "# explode date in day,week,month and hour\n",
        "# look for out laiers and remove them"
      ],
      "metadata": {
        "id": "wk-9a2fpoLcV"
      },
      "execution_count": null,
      "outputs": []
    },
    {
      "cell_type": "markdown",
      "source": [
        "**Average both temperatur and humidity**"
      ],
      "metadata": {
        "id": "PQrqQaaj8Te2"
      }
    },
    {
      "cell_type": "code",
      "source": [
        "Aep_df1['Avg_house_Temp']= round(Aep_df1[['kitchen_temp' , 'living_room_temp' , 'laundry_room_temp'\n",
        "                                  , 'office_room_temp' , 'bathroom_temp',\n",
        "                                  'ironing_room_temp' ,'teenager_room_temp' , 'parents_room_temp']].mean(axis=1),2)"
      ],
      "metadata": {
        "id": "fE_mwYDIgyec"
      },
      "execution_count": null,
      "outputs": []
    },
    {
      "cell_type": "code",
      "source": [
        "Aep_df1['Avg_house_hum']= round(Aep_df1[['kitchen_hum' , 'living_room_hum' , 'laundry_room_hum'\n",
        "                                  , 'office_room_hum' , 'bathroom_hum',\n",
        "                                  'ironing_room_hum' ,'teenager_room_hum' , 'parents_room_hum']].mean(axis=1),2)"
      ],
      "metadata": {
        "id": "XZQfi-tv7SQq"
      },
      "execution_count": null,
      "outputs": []
    },
    {
      "cell_type": "code",
      "source": [
        "Aep_df1.head(5)"
      ],
      "metadata": {
        "id": "Pk5aHCEa3jB2"
      },
      "execution_count": null,
      "outputs": []
    },
    {
      "cell_type": "code",
      "source": [
        "Aep_df2 = Aep_df1.copy()"
      ],
      "metadata": {
        "id": "zoKbtmXV9yKa"
      },
      "execution_count": null,
      "outputs": []
    },
    {
      "cell_type": "code",
      "source": [
        "from datetime import datetime"
      ],
      "metadata": {
        "id": "N1erXFu6WUw-"
      },
      "execution_count": null,
      "outputs": []
    },
    {
      "cell_type": "code",
      "source": [
        "#Since date is in object type convert to datetime type :\n",
        "Aep_df2['new_date'] = Aep_df2['date'].apply(lambda row: datetime.strptime(row, '%Y-%m-%d %H:%M:%S'))"
      ],
      "metadata": {
        "id": "QJJLVEQ0VU2n"
      },
      "execution_count": null,
      "outputs": []
    },
    {
      "cell_type": "code",
      "source": [
        "# explode formated date in new colums as date,year,month, day and hour\n",
        "Aep_df2['Date']= Aep_df2['new_date'].apply(lambda x: datetime.strftime(x,'%Y-%m-%d')) \n",
        "\n",
        "Aep_df2['Year'] = Aep_df2['new_date'].dt.year\n",
        "\n",
        "Aep_df2['Month'] = Aep_df2['new_date'].dt.month\n",
        "\n",
        "Aep_df2['Day'] = Aep_df2['new_date'].dt.dayofweek\n",
        "\n",
        "Aep_df2['Hour'] = Aep_df2['new_date'].dt.hour\n"
      ],
      "metadata": {
        "id": "45D0sRSX8R00"
      },
      "execution_count": null,
      "outputs": []
    },
    {
      "cell_type": "code",
      "source": [
        "datelist = ['Year','Month','Day','Hour']"
      ],
      "metadata": {
        "id": "62lH1fpHf4uh"
      },
      "execution_count": null,
      "outputs": []
    },
    {
      "cell_type": "code",
      "source": [
        "for i in datelist:\n",
        "  print(\"No. of unique values in \",i,\"is\",Aep_df2[i].nunique(),\".\")"
      ],
      "metadata": {
        "id": "ykJG0Vflf0rR"
      },
      "execution_count": null,
      "outputs": []
    },
    {
      "cell_type": "code",
      "source": [
        "Aep_df2['Year'].unique()"
      ],
      "metadata": {
        "id": "e-qf3UHWfW-g"
      },
      "execution_count": null,
      "outputs": []
    },
    {
      "cell_type": "code",
      "source": [
        "# Dropping  columns \n",
        "Aep_df2.drop(['date','new_date','Year'],inplace=True,axis=1)"
      ],
      "metadata": {
        "id": "GyWqbY8feE2i"
      },
      "execution_count": null,
      "outputs": []
    },
    {
      "cell_type": "code",
      "source": [
        "Aep_df2.head(5)"
      ],
      "metadata": {
        "id": "EWtJ9Xxea5k_"
      },
      "execution_count": null,
      "outputs": []
    },
    {
      "cell_type": "code",
      "source": [
        "meter_reading = Aep_df2['meter_reading'].unique()\n",
        "meter_reading.sort()\n",
        "print(meter_reading)"
      ],
      "metadata": {
        "id": "7GqZjCXYDBiF"
      },
      "execution_count": null,
      "outputs": []
    },
    {
      "cell_type": "code",
      "source": [
        "# 1) group by hour, date (day and month) in avg temperature in,out,meter reading.\n",
        "# 2) group by hour, date (day and month) in avg humidity in,out and meter reading\n",
        "Daily_Hr_data = Aep_df2.groupby(['Date','Hour']).agg({'Avg_house_Temp': 'mean','Avg_house_hum':'mean','Chievres_weather_station_temp':'mean','Chievres_weather_station_hum':'mean','meter_reading':'mean'}).sort_values(by=['Date','Hour']).reset_index()\n",
        "Daily_Hr_data"
      ],
      "metadata": {
        "id": "tDooWzb99Jjh"
      },
      "execution_count": null,
      "outputs": []
    },
    {
      "cell_type": "code",
      "source": [
        "Daily_Hr_data.describe()"
      ],
      "metadata": {
        "id": "XA9k_dk7IH4k"
      },
      "execution_count": null,
      "outputs": []
    },
    {
      "cell_type": "code",
      "source": [
        "def reading_range(x):\n",
        "   if  25 <= x < 50 :\n",
        "     return '25 to 50'\n",
        "   elif 50 <= x < 60 :\n",
        "     return '50 to 60'\n",
        "   elif 60 <= x < 80 :\n",
        "     return '60 to 80'\n",
        "   elif 80 <= x < 110 :\n",
        "     return '80 to 110'\n",
        "   elif 110 <= x < 150 :\n",
        "     return '110 to 150'    \n",
        "   elif 150 <= x < 200 :\n",
        "     return '150 to 200'\n",
        "   elif 200 <= x < 300 :\n",
        "     return '200 to 300' \n",
        "   elif 300 <= x < 400 :\n",
        "     return '300 to 400' \n",
        "   else :\n",
        "     return '400+'"
      ],
      "metadata": {
        "id": "7qOlR_rn7kuY"
      },
      "execution_count": null,
      "outputs": []
    },
    {
      "cell_type": "code",
      "source": [
        "Daily_Hr_data ['energy_range'] = Daily_Hr_data['meter_reading'].apply(reading_range)\n",
        "Daily_Hr_data"
      ],
      "metadata": {
        "id": "OLiyNx4a96xZ"
      },
      "execution_count": null,
      "outputs": []
    },
    {
      "cell_type": "code",
      "source": [
        "Daily_Hr_data['energy_range'].value_counts().reset_index().rename(columns = {'index': 'energy_range','energy_range':'count'})"
      ],
      "metadata": {
        "id": "2zLCwO4rgJcd"
      },
      "execution_count": null,
      "outputs": []
    },
    {
      "cell_type": "markdown",
      "source": [
        "### What all manipulations have you done and insights you found?"
      ],
      "metadata": {
        "id": "MSa1f5Uengrz"
      }
    },
    {
      "cell_type": "markdown",
      "source": [
        "**Answer Here.**\n",
        "\n",
        "1) Since the temperature and humidity are individually given for each room type try to make the overall average of temperatur and humidity for further comparison.\n",
        "\n",
        "2)Break the date into date, year,month,day,hours(Because temperature and humidty mostly vary on hourly bases).Since year is only 2016,therefore we will drop it as it is a constant value in year column.\n",
        "\n",
        "3)Grouping by date and hour ,so we can get hourly every day data.\n",
        "\n",
        "4)Creating a set of range of meter readings to find the diferent range and there count.\n",
        "\n",
        "5) Average Temperature inside house is between 16 to 26 degree celsius(optimum),even tough temperature outside was varing on large range beween -5 to 25 degree celsius.\n",
        "\n",
        "6) Humidity is inversly proportion to temperatue\n"
      ],
      "metadata": {
        "id": "LbyXE7I1olp8"
      }
    },
    {
      "cell_type": "markdown",
      "source": [
        "## ***4. Data Vizualization, Storytelling & Experimenting with charts : Understand the relationships between variables***"
      ],
      "metadata": {
        "id": "GF8Ens_Soomf"
      }
    },
    {
      "cell_type": "markdown",
      "source": [
        "#### Chart - 1"
      ],
      "metadata": {
        "id": "0wOQAZs5pc--"
      }
    },
    {
      "cell_type": "code",
      "source": [
        "column_uva = Aep_df2.columns[:-4]\n",
        "column_uva"
      ],
      "metadata": {
        "id": "DTUzYVoOj3fU"
      },
      "execution_count": null,
      "outputs": []
    },
    {
      "cell_type": "code",
      "source": [
        "##Univarient Analsis\n",
        "for i in column_uva:\n",
        "  plt.subplots(figsize=(10,5))\n",
        "  sns.distplot(Aep_df2[i],kde = False)\n",
        "  plt.ylabel('count')\n",
        "  "
      ],
      "metadata": {
        "id": "avl6FOomj6JV"
      },
      "execution_count": null,
      "outputs": []
    },
    {
      "cell_type": "markdown",
      "source": [
        "**Observation**\n",
        "\n",
        "1) Meter reading is right skewed ,with highest count for the meter reading range between 50 to 60.\n",
        "\n",
        "2)Kitchen temperture,living room temperature,laundry_room_temp,office_room_temp, bathroom_temp,ironing_room_temp ,teenager_room_temp,parents_room_temp,,Avg_house_Temp allmost every room had normal distribution with nearly high fluctuating range of temperature is between 18 to 24.\n",
        "**outside_building_temp ,Chievres_weather_station_temp range between -5 to 28**.\n",
        "\n",
        "3)'kitchen_hum','living_room_hum','laundry_room_hum','office_room_hum',,'ironing_room_hum','teenager_room_hum','parents_room_hum',, 'Avg_house_hum' had almost a normal distributed plot range between 30 to 55,where most of the count was beween 38 to 42 .\n",
        "'bathroom_hum**(Right Skewwed).outside_building_hum had a range of humidity from 0 to 100 , with max count between 0 to 5,** \n",
        "**Chievres_weather_station_hum(left skewwed most of the time between 80 to 100).**\n",
        "\n",
        "4) Visibility of scale 40 km was highest.\n"
      ],
      "metadata": {
        "id": "rLCYmUYfqzjD"
      }
    },
    {
      "cell_type": "markdown",
      "source": [
        "#### Chart - 2"
      ],
      "metadata": {
        "id": "iAK5gKHvLm8o"
      }
    },
    {
      "cell_type": "code",
      "source": [
        "#Chart-2\n",
        "# every month meter reading histogram plot \n",
        "Monthly_reading = Aep_df2.groupby(['Month'])['meter_reading'].sum().reset_index()\n",
        "Monthly_reading"
      ],
      "metadata": {
        "id": "cTTP1GWTNrkD"
      },
      "execution_count": null,
      "outputs": []
    },
    {
      "cell_type": "code",
      "source": [
        "plt.figure(figsize=(18,8))\n",
        "sns.barplot(x=Monthly_reading['Month'],y = Monthly_reading['meter_reading'])\n",
        "plt.xlabel('Month')\n",
        "plt.ylabel('meter_reading')\n",
        "plt.title(\"Monthly_energy_consumption\")"
      ],
      "metadata": {
        "id": "2B8gMeOtOC0L"
      },
      "execution_count": null,
      "outputs": []
    },
    {
      "cell_type": "markdown",
      "source": [
        "Month 3 following 4 and 2 had higest meter reading."
      ],
      "metadata": {
        "id": "29M8boys6hYp"
      }
    },
    {
      "cell_type": "markdown",
      "source": [
        "#### Chart - 3"
      ],
      "metadata": {
        "id": "NCZko1f-Lqip"
      }
    },
    {
      "cell_type": "code",
      "source": [
        "# Chart - 3 visualization code\n",
        "#Hourly Energy Consuption\n",
        "hourly_temp= Daily_Hr_data.groupby(['Hour'])['meter_reading'].mean().reset_index()"
      ],
      "metadata": {
        "id": "69pRHYdsklqo"
      },
      "execution_count": null,
      "outputs": []
    },
    {
      "cell_type": "code",
      "source": [
        "sns.set_style('darkgrid')\n",
        "plt.figure(figsize=(18,6))\n",
        "sns.lineplot(x=hourly_temp['Hour'],y=hourly_temp['meter_reading'],marker='o',\n",
        "             legend='brief',label='Avg_Energy_Consumption')\n",
        "plt.title( 'Hourly average energy consuption',fontsize=20)\n",
        "plt.xlabel('Hour', fontsize=15)\n",
        "plt.ylabel('Average Energy Consumption', fontsize=12)\n",
        "plt.legend()\n",
        "plt.show()"
      ],
      "metadata": {
        "id": "gK6UFXwEkA9e"
      },
      "execution_count": null,
      "outputs": []
    },
    {
      "cell_type": "markdown",
      "source": [
        "\n",
        "The consumption of energy from mid night to early morning is very low,as appliances are used less during the night.\n",
        "\n",
        "The consumption of energy from morning  til evening hours (6 to 16) is moderate.where as in the evening(17 to 20), energy consumption is high.This is because appliances are used more during the evening,an was higest at 18."
      ],
      "metadata": {
        "id": "qTegAEI3lt7s"
      }
    },
    {
      "cell_type": "markdown",
      "source": [
        "#### Chart - 4"
      ],
      "metadata": {
        "id": "xOybsiYaLswV"
      }
    },
    {
      "cell_type": "code",
      "source": [
        "# Chart - 3 visualization code\n",
        "# monthly min and max temperature inside house.\n",
        "temp_in = Aep_df2.groupby('Month').agg({'Avg_house_Temp': ['min', 'max']}).reset_index()\n",
        "temp_in"
      ],
      "metadata": {
        "id": "f7osRJPxS21b"
      },
      "execution_count": null,
      "outputs": []
    },
    {
      "cell_type": "code",
      "source": [
        "temp_out = Aep_df2.groupby('Month').agg({'Chievres_weather_station_temp': ['min', 'max']}).reset_index()\n",
        "temp_out"
      ],
      "metadata": {
        "id": "FLKZUzYrMjY4"
      },
      "execution_count": null,
      "outputs": []
    },
    {
      "cell_type": "code",
      "source": [
        "plt.subplots(figsize = (20, 8))\n",
        "plt.subplot(1, 2, 1)\n",
        "plt.grid(visible= True, which='major', axis='both')\n",
        "plt.plot(temp_in['Month'],temp_in[('Avg_house_Temp', 'min')],temp_in['Month'],temp_in[('Avg_house_Temp', 'max')], marker = 'o', linewidth=2.0)\n",
        "#display marker value\n",
        "for a,b in zip(temp_in['Month'], temp_in[('Avg_house_Temp', 'min')]): \n",
        "    plt.text(a, b, str(b))\n",
        "for a,b in zip(temp_in['Month'], temp_in[('Avg_house_Temp', 'max')]): \n",
        "    plt.text(a, b, str(b)) \n",
        "#fill the line between  \n",
        "plt.fill_between(temp_in['Month'],temp_in[('Avg_house_Temp', 'min')], temp_in[('Avg_house_Temp', 'max')], color='red', alpha=0.2)\n",
        "plt.title('Min and Max temperatur inside Monthly')\n",
        "#set label\n",
        "plt.xlabel('Month')\n",
        "plt.ylabel('Temperature')\n",
        "\n",
        "plt.subplot(1, 2, 2)\n",
        "plt.plot(temp_out['Month'],temp_out[('Chievres_weather_station_temp', 'min')],temp_out['Month'],temp_out[('Chievres_weather_station_temp', 'max')], marker = 'o', linewidth=2.0)\n",
        "#display marker value\n",
        "for a,b in zip(temp_out['Month'], temp_out[('Chievres_weather_station_temp', 'min')]): \n",
        "    plt.text(a, b, str(b))\n",
        "for a,b in zip(temp_out['Month'], temp_out[('Chievres_weather_station_temp', 'max')]): \n",
        "    plt.text(a, b, str(b)) \n",
        "#fill the line between  \n",
        "plt.fill_between(temp_out['Month'],temp_out[('Chievres_weather_station_temp', 'min')], temp_out[('Chievres_weather_station_temp', 'max')], color='red', alpha=0.2)\n",
        "plt.title('Min and Max temperatur outside Monthly')\n",
        "#set label\n",
        "plt.xlabel('Month')\n",
        "plt.ylabel('Temperature')\n"
      ],
      "metadata": {
        "id": "gjpBHg6cdjPr"
      },
      "execution_count": null,
      "outputs": []
    },
    {
      "cell_type": "markdown",
      "source": [
        "1) Average temperature inside was mantained at optimum level.\n",
        "\n",
        "2)Month Jan,feb and march wher cool ,january had the low temperature where as may had the highest temperature."
      ],
      "metadata": {
        "id": "HLhEXSZod4lY"
      }
    },
    {
      "cell_type": "markdown",
      "source": [
        "#### Chart - 5"
      ],
      "metadata": {
        "id": "1w8Tt7OzLvPH"
      }
    },
    {
      "cell_type": "code",
      "source": [
        "Temp_in_each = ['kitchen_temp', 'living_room_temp','laundry_room_temp','office_room_temp', 'bathroom_temp',\n",
        "                'ironing_room_temp','teenager_room_temp','parents_room_temp', 'Avg_house_Temp']"
      ],
      "metadata": {
        "id": "A-LVuziU8xS-"
      },
      "execution_count": null,
      "outputs": []
    },
    {
      "cell_type": "code",
      "source": [
        "plt.figure(figsize=(24,8))\n",
        "for i in Temp_in_each :\n",
        "  ax=sns.lineplot(x=Aep_df2['Hour'] ,y = Aep_df2[i],legend='brief')\n",
        "  \n",
        "ax.legend(ax.get_lines(), Temp_in_each)\n",
        "plt.xlabel('Hour', fontsize=15)\n",
        "plt.ylabel('Temperature range', fontsize=12)\n",
        "plt.show()"
      ],
      "metadata": {
        "id": "h9woovzbAoSQ"
      },
      "execution_count": null,
      "outputs": []
    },
    {
      "cell_type": "code",
      "source": [
        "\n",
        "for i in Temp_in_each :\n",
        "  temp_room = pd.DataFrame(Aep_df2.groupby('Hour').agg({i : ['min', 'max']}).mean())\n",
        "  print (temp_room)"
      ],
      "metadata": {
        "id": "GmZSTvS_wVqD"
      },
      "execution_count": null,
      "outputs": []
    },
    {
      "cell_type": "markdown",
      "source": [
        "**Observation**\n",
        "\n",
        "only living room had some fluctuations other than that almost every room had mantained constant  temperature daily.\n",
        "\n",
        "parents room temperature was cool,following office room and laundry was warm"
      ],
      "metadata": {
        "id": "KqxA46KaFLS_"
      }
    },
    {
      "cell_type": "markdown",
      "source": [
        "#### Chart - 6"
      ],
      "metadata": {
        "id": "f18zk8uAsObK"
      }
    },
    {
      "cell_type": "code",
      "source": [
        "Daily_Hr_data ['energy_range'] = Daily_Hr_data['meter_reading'].apply(reading_range)\n",
        "Daily_Hr_data"
      ],
      "metadata": {
        "id": "aXkNJ-Cjti3S"
      },
      "execution_count": null,
      "outputs": []
    },
    {
      "cell_type": "code",
      "source": [
        "Daily_Hr_data ['energy_range'].value_counts()"
      ],
      "metadata": {
        "id": "teuebe9EY58w"
      },
      "execution_count": null,
      "outputs": []
    },
    {
      "cell_type": "code",
      "source": [
        "plt.subplots(figsize = (30, 8))\n",
        "plt.grid(visible= True, which='major', axis='both')\n",
        "plt.plot(Daily_Hr_data['Date'],Daily_Hr_data['Chievres_weather_station_temp'],Daily_Hr_data['Date'],Daily_Hr_data['Chievres_weather_station_hum'], linewidth=2.0)\n",
        "plt.title('Relation between temp and humidity',size=15,fontdict={\"weight\": \"bold\"})\n",
        "#set label\n",
        "plt.xlabel('Date',size=15,fontdict={\"weight\": \"bold\"})\n",
        "plt.ylabel('Temp and humidity readings',size=15,fontdict={\"weight\": \"bold\"})"
      ],
      "metadata": {
        "id": "prOX9fg9slFQ"
      },
      "execution_count": null,
      "outputs": []
    },
    {
      "cell_type": "markdown",
      "source": [
        "**Observation**\n",
        "\n",
        "Temperature and humidity have a inverse relationship."
      ],
      "metadata": {
        "id": "2oaID_r0vm09"
      }
    },
    {
      "cell_type": "markdown",
      "source": [
        "#### Chart - 7"
      ],
      "metadata": {
        "id": "KMRg5nocLxJO"
      }
    },
    {
      "cell_type": "code",
      "source": [
        "plt.figure(figsize=(30,12))\n",
        "sns.lineplot(x=Aep_df2['Date'],y=Aep_df2['Windspeed'],\n",
        "             legend='brief',label='Avg_Energy_Consumption')\n",
        "plt.title( 'Daily average wind speed',fontsize=20)\n",
        "plt.xlabel('Date', fontsize=15)\n",
        "plt.ylabel('Average speed ', fontsize=12)\n",
        "plt.xticks(rotation=90)\n",
        "plt.legend()\n",
        "plt.show()"
      ],
      "metadata": {
        "id": "yQxXmPinNQht"
      },
      "execution_count": null,
      "outputs": []
    },
    {
      "cell_type": "markdown",
      "source": [
        "**observation**\n",
        "\n",
        "Windspeed  is bewteen 0 to 14 and mostly  0 m/s to 5.5 m/s range fall below 75%."
      ],
      "metadata": {
        "id": "Xfd2HEFxwUxE"
      }
    },
    {
      "cell_type": "markdown",
      "source": [
        "#### Chart - 8"
      ],
      "metadata": {
        "id": "csjcVBpmL0xN"
      }
    },
    {
      "cell_type": "code",
      "source": [
        "plt.figure(figsize=(30,12))\n",
        "sns.lineplot(x=Aep_df2['Date'],y=Aep_df2['Visibility'])\n",
        "plt.title( 'Daily average Visibility',fontsize=20)\n",
        "plt.xlabel('Date', fontsize=15)\n",
        "plt.ylabel('Average visibility ', fontsize=12)\n",
        "plt.xticks(rotation=90)\n",
        "plt.legend()\n",
        "plt.show()"
      ],
      "metadata": {
        "id": "QZjuApHkS__Z"
      },
      "execution_count": null,
      "outputs": []
    },
    {
      "cell_type": "markdown",
      "source": [
        "#### Chart - 9"
      ],
      "metadata": {
        "id": "GhKC90EDL2tF"
      }
    },
    {
      "cell_type": "code",
      "source": [
        "plt.figure(figsize=(30,12))\n",
        "sns.lineplot(x=Aep_df2[\"Chievres_weather_station_temp\"],y=Aep_df2['Visibility'])\n",
        "plt.title( 'Daily average Visibility',fontsize=20)\n",
        "plt.xlabel('Date', fontsize=15)\n",
        "plt.ylabel('Average visibility ', fontsize=12)\n",
        "#plt.xticks(rotation=90)\n",
        "plt.legend()\n",
        "plt.show()"
      ],
      "metadata": {
        "id": "Z-_r564f9ndj"
      },
      "execution_count": null,
      "outputs": []
    },
    {
      "cell_type": "markdown",
      "source": [
        "Most of the time even if the temperature is recording low, visibility was good which is between 20 to 65 KM."
      ],
      "metadata": {
        "id": "qL218AxX_nd3"
      }
    },
    {
      "cell_type": "markdown",
      "source": [
        "#### Chart - 10"
      ],
      "metadata": {
        "id": "bjS2JwdNL4nG"
      }
    },
    {
      "cell_type": "code",
      "source": [
        "import plotly.express as px\n",
        "fig = px.scatter(Daily_Hr_data, x=\"Chievres_weather_station_temp\", y=\"Avg_house_Temp\",\n",
        "                 color=\"energy_range\",\n",
        "                 size='meter_reading',\n",
        "                 hover_data=['energy_range'])\n",
        "\n",
        "fig.show() "
      ],
      "metadata": {
        "id": "GrhratuO1c1B"
      },
      "execution_count": null,
      "outputs": []
    },
    {
      "cell_type": "markdown",
      "source": [
        "As data is not really in a clustered way,Energy consuption had recorded from low to high range on daily bases."
      ],
      "metadata": {
        "id": "Y7feoe0d89oD"
      }
    },
    {
      "cell_type": "markdown",
      "source": [
        "#### Chart - 11 - Correlation Heatmap"
      ],
      "metadata": {
        "id": "NC_X3p0fY2L0"
      }
    },
    {
      "cell_type": "markdown",
      "source": [
        "##### 1. Why did you pick the specific chart?"
      ],
      "metadata": {
        "id": "K5QZ13OEpz2H"
      }
    },
    {
      "cell_type": "markdown",
      "source": [
        "Answer Here."
      ],
      "metadata": {
        "id": "XESiWehPqBRc"
      }
    },
    {
      "cell_type": "code",
      "source": [
        "plt.figure(figsize=(22,20))\n",
        "sns.heatmap(Aep_df2.corr(),annot=True,cmap='coolwarm')"
      ],
      "metadata": {
        "id": "f2Q0B3A4LlJv"
      },
      "execution_count": null,
      "outputs": []
    },
    {
      "cell_type": "markdown",
      "source": [
        "## ***5. Hypothesis Testing***"
      ],
      "metadata": {
        "id": "g-ATYxFrGrvw"
      }
    },
    {
      "cell_type": "markdown",
      "source": [
        "### Based on your chart experiments, define three hypothetical statements from the dataset. In the next three questions, perform hypothesis testing to obtain final conclusion about the statements through your code and statistical testing."
      ],
      "metadata": {
        "id": "Yfr_Vlr8HBkt"
      }
    },
    {
      "cell_type": "markdown",
      "source": [
        "### Hypothetical Statement - 1"
      ],
      "metadata": {
        "id": "8yEUt7NnHlrM"
      }
    },
    {
      "cell_type": "markdown",
      "source": [
        "#### 1. State Your research hypothesis as a null hypothesis and alternate hypothesis."
      ],
      "metadata": {
        "id": "tEA2Xm5dHt1r"
      }
    },
    {
      "cell_type": "markdown",
      "source": [
        "Null_hypothesis = Average temperature inside is almost equal to 21 degree celsius\n",
        "\n",
        "Alternate = Average temperature is not the given values. "
      ],
      "metadata": {
        "id": "HI9ZP0laH0D-"
      }
    },
    {
      "cell_type": "markdown",
      "source": [
        "#### 2. Perform an appropriate statistical test."
      ],
      "metadata": {
        "id": "I79__PHVH19G"
      }
    },
    {
      "cell_type": "markdown",
      "source": [
        "Even tough from univarient analysis it was shown that average temperature inside house  is normally distibuted data,below plot shows the mean and meadian difference to detremine the type of test to perform."
      ],
      "metadata": {
        "id": "nbD2-nvBXgK8"
      }
    },
    {
      "cell_type": "code",
      "source": [
        "fig=plt.figure(figsize=(9,6))\n",
        "ax=fig.gca()\n",
        "sns.distplot(Aep_df2['Avg_house_Temp'])\n",
        "ax.axvline(Aep_df2['Avg_house_Temp'].mean(),color='green', linestyle='dashed', linewidth=2)\n",
        "ax.axvline(Aep_df2['Avg_house_Temp'].median(),color='brown', linestyle='dashed', linewidth=2)\n",
        "plt.show()"
      ],
      "metadata": {
        "id": "sCQoSr-5Webt"
      },
      "execution_count": null,
      "outputs": []
    },
    {
      "cell_type": "markdown",
      "source": [
        "##### Which statistical test have you done to obtain P-Value?"
      ],
      "metadata": {
        "id": "Ou-I18pAyIpj"
      }
    },
    {
      "cell_type": "markdown",
      "source": [
        "Type of Test : Two Tailed test(Z-test)"
      ],
      "metadata": {
        "id": "Yzp4V3ZLa6xT"
      }
    },
    {
      "cell_type": "markdown",
      "source": [
        "Since,the plot  a normally distributed and mean , median is very close, we can perform z test."
      ],
      "metadata": {
        "id": "vN6mX1B4YAje"
      }
    },
    {
      "cell_type": "markdown",
      "source": [
        "Perform Statistical Test to obtain P-Value"
      ],
      "metadata": {
        "id": "QYCrki2dd9oN"
      }
    },
    {
      "cell_type": "code",
      "source": [
        "#find the z value\n",
        "import math\n",
        "def mean(sample,hyp,size,std):\n",
        "    return (sample - hyp)*math.sqrt(size)/std"
      ],
      "metadata": {
        "id": "bkmrlBrhaYnh"
      },
      "execution_count": null,
      "outputs": []
    },
    {
      "cell_type": "code",
      "source": [
        "#Pvalue\n",
        "from scipy.stats import norm\n",
        "def p_value(z):\n",
        "    prob_z = norm.cdf(z, 0, 1)\n",
        "    if prob_z>0.5:\n",
        "      return 2*(1-prob_z)\n",
        "    else:\n",
        "      return 2*prob_z"
      ],
      "metadata": {
        "id": "Qlgqb4_Vaxjj"
      },
      "execution_count": null,
      "outputs": []
    },
    {
      "cell_type": "code",
      "source": [
        "def conclusion(p):\n",
        "  significance_level = 0.05\n",
        "  if p<significance_level:\n",
        "    return f\"Null Hypothesis rejected Successfully for p = {p}\"\n",
        "  else:\n",
        "    return f\"Failed to reject the Null Hypothesis for p = {p}.\"\n",
        "    "
      ],
      "metadata": {
        "id": "TP5oPCfdw49a"
      },
      "execution_count": null,
      "outputs": []
    },
    {
      "cell_type": "code",
      "source": [
        "sample_size = 30\n",
        "subset = Aep_df2.sample(n=sample_size)\n",
        "sample_mean = subset['Avg_house_Temp'].mean()\n",
        "hypothesis_mean = Aep_df2['Avg_house_Temp'].mean()\n",
        "\n",
        "import statistics\n",
        "df_sd = statistics.pstdev(Aep_df2['Avg_house_Temp'])\n",
        "\n",
        "print (f'Standard deviation is {df_sd}')\n",
        "print (f'hypothesis mean is {hypothesis_mean}')\n",
        "print (f'Mean of sample is {sample_mean}')"
      ],
      "metadata": {
        "id": "CkBlHnezbqWz"
      },
      "execution_count": null,
      "outputs": []
    },
    {
      "cell_type": "code",
      "source": [
        "z = mean(sample_mean,hypothesis_mean,sample_size,df_sd)\n",
        "z"
      ],
      "metadata": {
        "id": "gzAvbmkvfBLp"
      },
      "execution_count": null,
      "outputs": []
    },
    {
      "cell_type": "markdown",
      "source": [
        "Find the p value"
      ],
      "metadata": {
        "id": "6fcTqGv_eIPb"
      }
    },
    {
      "cell_type": "code",
      "source": [
        "P_val = p_value(z)\n",
        "P_val"
      ],
      "metadata": {
        "id": "wni2x8bawk27"
      },
      "execution_count": null,
      "outputs": []
    },
    {
      "cell_type": "markdown",
      "source": [
        "Final Conclusion for the test."
      ],
      "metadata": {
        "id": "3QplVXISeMh4"
      }
    },
    {
      "cell_type": "code",
      "source": [
        "conclusion(P_val)"
      ],
      "metadata": {
        "id": "j5xIA_qIw6Tz"
      },
      "execution_count": null,
      "outputs": []
    },
    {
      "cell_type": "markdown",
      "source": [
        "### Hypothetical Statement - 2"
      ],
      "metadata": {
        "id": "4_0_7-oCpUZd"
      }
    },
    {
      "cell_type": "markdown",
      "source": [
        "#### 1. State Your research hypothesis as a null hypothesis and alternate hypothesis."
      ],
      "metadata": {
        "id": "hwyV_J3ipUZe"
      }
    },
    {
      "cell_type": "markdown",
      "source": [
        "Null Hypothesis : mean meter reading daily is almost = 97\n",
        "\n",
        "Alternate Hypothesise :  mean meter reading daily is != 97"
      ],
      "metadata": {
        "id": "6qVtQdiopmWO"
      }
    },
    {
      "cell_type": "markdown",
      "source": [
        "#### 2. Perform an appropriate statistical test."
      ],
      "metadata": {
        "id": "3yB-zSqbpUZe"
      }
    },
    {
      "cell_type": "code",
      "source": [
        "fig=plt.figure(figsize=(9,6))\n",
        "ax=fig.gca()\n",
        "sns.distplot(Aep_df2['meter_reading'])\n",
        "ax.axvline(Aep_df2['meter_reading'].mean(),color='green', linestyle='dashed', linewidth=2)\n",
        "ax.axvline(Aep_df2['meter_reading'].median(),color='brown', linestyle='dashed', linewidth=2)\n",
        "plt.show()"
      ],
      "metadata": {
        "id": "wwj_XtlSigJN"
      },
      "execution_count": null,
      "outputs": []
    },
    {
      "cell_type": "markdown",
      "source": [
        "##### Why did you choose the specific statistical test?"
      ],
      "metadata": {
        "id": "Fd15vwWVpUZf"
      }
    },
    {
      "cell_type": "markdown",
      "source": [
        "The distribution is positively skewed. For a skewed data Z-Test can't be performed.For heavily skewed data t-tests  can be used even we can take large sample size."
      ],
      "metadata": {
        "id": "SpN34tqwmeeS"
      }
    },
    {
      "cell_type": "markdown",
      "source": [
        "**Statistical Test to obtain P-Value**"
      ],
      "metadata": {
        "id": "3jRPagrRqL3D"
      }
    },
    {
      "cell_type": "code",
      "source": [
        "hypothesis_mean2 = Aep_df2['meter_reading'].mean()\n",
        "hypothesis_mean2"
      ],
      "metadata": {
        "id": "GRR1KTiqoKMt"
      },
      "execution_count": null,
      "outputs": []
    },
    {
      "cell_type": "code",
      "source": [
        "sample_size = 50\n",
        "subset = Aep_df2.sample(n=sample_size)"
      ],
      "metadata": {
        "id": "sAzknCKqo1RX"
      },
      "execution_count": null,
      "outputs": []
    },
    {
      "cell_type": "markdown",
      "source": [
        "#### Using scipy library"
      ],
      "metadata": {
        "id": "3_BccESEPH1n"
      }
    },
    {
      "cell_type": "markdown",
      "source": [
        "Find the p value"
      ],
      "metadata": {
        "id": "KK_ldv-Zrd6r"
      }
    },
    {
      "cell_type": "code",
      "source": [
        "import scipy.stats as st\n",
        "tstat,pval = st.stats.ttest_1samp(subset[['meter_reading']],hypothesis_mean2)\n",
        "pval"
      ],
      "metadata": {
        "id": "WXJ-HDSfy9YR"
      },
      "execution_count": null,
      "outputs": []
    },
    {
      "cell_type": "markdown",
      "source": [
        "Final Conclusion for the test."
      ],
      "metadata": {
        "id": "Ox_0cd7jrVBL"
      }
    },
    {
      "cell_type": "code",
      "source": [
        "conclusion(pval)"
      ],
      "metadata": {
        "id": "koBsgnw1rOYk"
      },
      "execution_count": null,
      "outputs": []
    },
    {
      "cell_type": "markdown",
      "source": [
        "### Hypothetical Statement - 3"
      ],
      "metadata": {
        "id": "bn_IUdTipZyH"
      }
    },
    {
      "cell_type": "markdown",
      "source": [
        "#### 1. State Your research hypothesis as a null hypothesis and alternate hypothesis."
      ],
      "metadata": {
        "id": "49K5P_iCpZyH"
      }
    },
    {
      "cell_type": "markdown",
      "source": [
        "Null Hypothesis : is visibiity = 20\n",
        "\n",
        "Alternate Hypothesise :  visibility > 20"
      ],
      "metadata": {
        "id": "7gWI5rT9pZyH"
      }
    },
    {
      "cell_type": "markdown",
      "source": [
        "#### 2. Perform an appropriate statistical test."
      ],
      "metadata": {
        "id": "Nff-vKELpZyI"
      }
    },
    {
      "cell_type": "code",
      "source": [
        "#looking for the didtribution of the data.\n",
        "fig=plt.figure(figsize=(9,6))\n",
        "ax=fig.gca()\n",
        "sns.distplot(Aep_df2['Visibility'])\n",
        "ax.axvline(Aep_df2['Visibility'].mean(),color='green', linestyle='dashed', linewidth=2)\n",
        "ax.axvline(Aep_df2['Visibility'].median(),color='brown', linestyle='dashed', linewidth=2)\n",
        "plt.show()"
      ],
      "metadata": {
        "id": "2gvyZ7EzuPRn"
      },
      "execution_count": null,
      "outputs": []
    },
    {
      "cell_type": "markdown",
      "source": [
        "##### Which statistical test have you done to obtain P-Value?"
      ],
      "metadata": {
        "id": "kLW572S8pZyI"
      }
    },
    {
      "cell_type": "markdown",
      "source": [
        "Since the plot is not really a normally distributed data we will again use t-test."
      ],
      "metadata": {
        "id": "0GtqPE5ExEBi"
      }
    },
    {
      "cell_type": "markdown",
      "source": [
        "**Perform Statistical Test to obtain P-Value**"
      ],
      "metadata": {
        "id": "qsRsyfejw5x5"
      }
    },
    {
      "cell_type": "code",
      "source": [
        "import scipy.stats as st\n",
        "tstat,pval3 = st.stats.ttest_1samp(subset[['Visibility']],20)\n",
        "pval3"
      ],
      "metadata": {
        "id": "wlCBc_jsv7Ft"
      },
      "execution_count": null,
      "outputs": []
    },
    {
      "cell_type": "markdown",
      "source": [
        "Final Conclusion for the test."
      ],
      "metadata": {
        "id": "Cg7kmOZTw1_P"
      }
    },
    {
      "cell_type": "code",
      "source": [
        "conclusion(pval3)"
      ],
      "metadata": {
        "id": "0EQCT_H-woha"
      },
      "execution_count": null,
      "outputs": []
    },
    {
      "cell_type": "markdown",
      "source": [
        "## ***6. Feature Engineering & Data Pre-processing***"
      ],
      "metadata": {
        "id": "yLjJCtPM0KBk"
      }
    },
    {
      "cell_type": "markdown",
      "source": [
        "### 1. Handling Missing Values"
      ],
      "metadata": {
        "id": "xiyOF9F70UgQ"
      }
    },
    {
      "cell_type": "markdown",
      "source": [
        "#### Duplicate Values"
      ],
      "metadata": {
        "id": "FfQpaJMcOeP0"
      }
    },
    {
      "cell_type": "code",
      "source": [
        "# Dataset Duplicate Value Count\n",
        "Aep_df.duplicated().value_counts()"
      ],
      "metadata": {
        "id": "tP0IyinyOs65"
      },
      "execution_count": null,
      "outputs": []
    },
    {
      "cell_type": "markdown",
      "source": [
        "#### Missing Values/Null Values"
      ],
      "metadata": {
        "id": "mNlCRppXOs66"
      }
    },
    {
      "cell_type": "code",
      "source": [
        "# Missing Values/Null Values Count\n",
        "Aep_df.isna().sum()"
      ],
      "metadata": {
        "id": "Yj1V4QbROs66"
      },
      "execution_count": null,
      "outputs": []
    },
    {
      "cell_type": "markdown",
      "source": [
        "\n",
        "There no duplicate values\n",
        "\n",
        "There are no null values either,very fortunate!\n"
      ],
      "metadata": {
        "id": "iuYEFglpO-m_"
      }
    },
    {
      "cell_type": "markdown",
      "source": [
        "Answer Here."
      ],
      "metadata": {
        "id": "1ixusLtI0pqI"
      }
    },
    {
      "cell_type": "markdown",
      "source": [
        "### 2. Handling Outliers"
      ],
      "metadata": {
        "id": "id1riN9m0vUs"
      }
    },
    {
      "cell_type": "code",
      "source": [
        "# Handling Outliers & Outlier treatments\n",
        "Aep_df_fe = Aep_df2.copy()"
      ],
      "metadata": {
        "id": "M6w2CzZf04JK"
      },
      "execution_count": null,
      "outputs": []
    },
    {
      "cell_type": "code",
      "source": [
        "Aep_df_fe"
      ],
      "metadata": {
        "id": "qX55L2XlP34R"
      },
      "execution_count": null,
      "outputs": []
    },
    {
      "cell_type": "code",
      "source": [
        "plt.figure(figsize=(20,6))\n",
        "# Distribution plot\n",
        "plt.subplot(1,2,1)\n",
        "sns.distplot(Aep_df_fe['meter_reading'])\n",
        "\n",
        "# Box plot \n",
        "plt.subplot(1,2,2)\n",
        "sns.boxplot(Aep_df_fe['meter_reading'])"
      ],
      "metadata": {
        "id": "QkuqzC_gQBti"
      },
      "execution_count": null,
      "outputs": []
    },
    {
      "cell_type": "code",
      "source": [
        "Aep_df_fe['meter_reading'].describe()"
      ],
      "metadata": {
        "id": "Gqum32JufV6s"
      },
      "execution_count": null,
      "outputs": []
    },
    {
      "cell_type": "markdown",
      "source": [
        "It is clearly seen in plot that data have the lots of outliers.Data is right skewed 75% of data is  between the 10 and 100.\n",
        "\n"
      ],
      "metadata": {
        "id": "n_FAgpjBfhlO"
      }
    },
    {
      "cell_type": "markdown",
      "source": [
        "##### What all outlier treatment techniques have you used and why did you use those techniques?"
      ],
      "metadata": {
        "id": "578E2V7j08f6"
      }
    },
    {
      "cell_type": "code",
      "source": [
        "# IQR = 75% Percentile - 25% Percentile\n",
        "IQR=(Aep_df_fe['meter_reading'].quantile(0.75)) -(Aep_df_fe['meter_reading'].quantile(0.25))\n",
        "IQR"
      ],
      "metadata": {
        "id": "zzNDNKFchNSk"
      },
      "execution_count": null,
      "outputs": []
    },
    {
      "cell_type": "code",
      "source": [
        "# The upper and Lower limit with IQR is.\n",
        "upper_limit=(Aep_df_fe['meter_reading'].quantile(0.75) + (1.5 * (IQR)))\n",
        "lower_limit=abs(Aep_df_fe['meter_reading'].quantile(0.25) - (1.5 * (IQR)))\n",
        "print(f\"The upper limit is : {upper_limit} and lower limit is : {lower_limit}\")"
      ],
      "metadata": {
        "id": "g519yxh_hg8L"
      },
      "execution_count": null,
      "outputs": []
    },
    {
      "cell_type": "code",
      "source": [
        "# New data frame after removing outliers based on the IQR\n",
        "Aep_df_new = Aep_df_fe[(Aep_df_fe['meter_reading'] >= lower_limit) & (Aep_df_fe['meter_reading'] <= upper_limit)]"
      ],
      "metadata": {
        "id": "bbjHfguRikVO"
      },
      "execution_count": null,
      "outputs": []
    },
    {
      "cell_type": "code",
      "source": [
        "Aep_df_new['meter_reading'].describe()"
      ],
      "metadata": {
        "id": "pt_AW8-hi8UN"
      },
      "execution_count": null,
      "outputs": []
    },
    {
      "cell_type": "code",
      "source": [
        "plt.figure(figsize=(20,6))\n",
        "# Distribution plot\n",
        "plt.subplot(1,2,1)\n",
        "sns.distplot(Aep_df_new['meter_reading'])\n",
        "\n",
        "# Box plot \n",
        "plt.subplot(1,2,2)\n",
        "sns.boxplot(Aep_df_new['meter_reading'])"
      ],
      "metadata": {
        "id": "GAggxSp7jO4t"
      },
      "execution_count": null,
      "outputs": []
    },
    {
      "cell_type": "markdown",
      "source": [
        "I have used IQR with 1.5 to remove outliers and it is seen from plot has worked well in removing outliers."
      ],
      "metadata": {
        "id": "uGZz5OrT1HH-"
      }
    },
    {
      "cell_type": "markdown",
      "source": [
        "### 3. Categorical Encoding"
      ],
      "metadata": {
        "id": "89xtkJwZ18nB"
      }
    },
    {
      "cell_type": "code",
      "source": [
        "Aep_df_new.columns"
      ],
      "metadata": {
        "id": "h-OErBwm-pz2"
      },
      "execution_count": null,
      "outputs": []
    },
    {
      "cell_type": "code",
      "source": [
        "Aep_df_new.drop(['Date','rv2'],inplace=True,axis=1)"
      ],
      "metadata": {
        "id": "CL0bkT8--6ao"
      },
      "execution_count": null,
      "outputs": []
    },
    {
      "cell_type": "code",
      "source": [
        "##numeric features\n",
        "numeric_features = Aep_df_new.describe().columns\n",
        "numeric_features"
      ],
      "metadata": {
        "id": "3hy218V3dVS5"
      },
      "execution_count": null,
      "outputs": []
    },
    {
      "cell_type": "code",
      "source": [
        "try:\n",
        "  categorical_features = Aep_df_new.describe(include=['object','category']).columns\n",
        "  categorical_features\n",
        "except:\n",
        "  print('all are numerical features')  "
      ],
      "metadata": {
        "id": "mUfKwq4qdjSp"
      },
      "execution_count": null,
      "outputs": []
    },
    {
      "cell_type": "markdown",
      "source": [
        "Since there are no none numerical features,will skip feature encoding ."
      ],
      "metadata": {
        "id": "DD5sGNNlqVPh"
      }
    },
    {
      "cell_type": "markdown",
      "source": [
        "### 4. Feature Manipulation & Selection"
      ],
      "metadata": {
        "id": "-oLEiFgy-5Pf"
      }
    },
    {
      "cell_type": "markdown",
      "source": [
        "#### 1. Feature Manipulation"
      ],
      "metadata": {
        "id": "C74aWNz2AliB"
      }
    },
    {
      "cell_type": "code",
      "source": [
        "plt.figure(figsize=(22,20))\n",
        "sns.heatmap(Aep_df_new.corr(),annot=True,cmap='coolwarm')"
      ],
      "metadata": {
        "id": "6czlQ7dYTflz"
      },
      "execution_count": null,
      "outputs": []
    },
    {
      "cell_type": "code",
      "source": [
        "# Manipulate Features to minimize feature correlation and create new features\n",
        "#Multicollinearity\n",
        "from statsmodels.stats.outliers_influence import variance_inflation_factor\n",
        "def calc_vif(X):\n",
        "\n",
        "    # Calculating VIF\n",
        "    vif = pd.DataFrame()\n",
        "    vif[\"variables\"] = X.columns\n",
        "    vif[\"VIF\"] = [round(variance_inflation_factor(X.values, i),2) for i in range(X.shape[1])]\n",
        "\n",
        "    return(vif)"
      ],
      "metadata": {
        "id": "h1qC4yhBApWC"
      },
      "execution_count": null,
      "outputs": []
    },
    {
      "cell_type": "code",
      "source": [
        "calc_vif(Aep_df_new[[i for i in Aep_df_new.describe().columns if i not in ['meter_reading']]])"
      ],
      "metadata": {
        "id": "xspHOrgtSNNs"
      },
      "execution_count": null,
      "outputs": []
    },
    {
      "cell_type": "code",
      "source": [
        "calc_vif(Aep_df_new[[i for i in Aep_df_new.describe().columns if i not in ['meter_reading', 'kitchen_temp', 'kitchen_hum', 'living_room_temp',\n",
        "       'living_room_hum', 'laundry_room_temp', 'laundry_room_hum',\n",
        "       'office_room_temp', 'office_room_hum', 'bathroom_temp', 'bathroom_hum',\n",
        "        'ironing_room_temp',\n",
        "       'ironing_room_hum', 'teenager_room_temp', 'teenager_room_hum',\n",
        "       'parents_room_temp', 'parents_room_hum',\n",
        "      'Press_mm_hg','Chievres_weather_station_temp','Visibility','outside_building_hum','Chievres_weather_station_hum','Avg_house_Temp','Avg_house_hum']]])\n"
      ],
      "metadata": {
        "id": "p5SlsCCEdVYV"
      },
      "execution_count": null,
      "outputs": []
    },
    {
      "cell_type": "markdown",
      "source": [
        "#### 2. Feature Selection"
      ],
      "metadata": {
        "id": "2DejudWSA-a0"
      }
    },
    {
      "cell_type": "code",
      "source": [
        "# Select your features wisely to avoid overfitting\n",
        "X_sem = Aep_df_new[['outside_building_temp','Windspeed','Tdewpoint','rv1','Month','Day','Hour']]"
      ],
      "metadata": {
        "id": "YLhe8UmaBCEE"
      },
      "execution_count": null,
      "outputs": []
    },
    {
      "cell_type": "markdown",
      "source": [
        "What all feature selection methods have you used  and why?"
      ],
      "metadata": {
        "id": "pEMng2IbBLp7"
      }
    },
    {
      "cell_type": "markdown",
      "source": [
        "we usedthe VIF to select our feature ,to avoid model being biase."
      ],
      "metadata": {
        "id": "rb2Lh6Z8BgGs"
      }
    },
    {
      "cell_type": "markdown",
      "source": [
        "### 5. Data Transformation"
      ],
      "metadata": {
        "id": "TNVZ9zx19K6k"
      }
    },
    {
      "cell_type": "markdown",
      "source": [
        "Do you think that your data needs to be transformed? If yes, which transformation have you used. Explain Why?"
      ],
      "metadata": {
        "id": "nqoHp30x9hH9"
      }
    },
    {
      "cell_type": "markdown",
      "source": [
        "we used log transformation to normalize the dependent data.\n"
      ],
      "metadata": {
        "id": "Ff1GNSiqjzyC"
      }
    },
    {
      "cell_type": "code",
      "source": [
        "y= np.log10(Aep_df_new['meter_reading'])"
      ],
      "metadata": {
        "id": "-11v_nWGjDs_"
      },
      "execution_count": null,
      "outputs": []
    },
    {
      "cell_type": "markdown",
      "source": [
        "### 6. Data Scaling"
      ],
      "metadata": {
        "id": "rMDnDkt2B6du"
      }
    },
    {
      "cell_type": "markdown",
      "source": [
        "##### Which method have you used to scale you data and why?"
      ],
      "metadata": {
        "id": "yiiVWRdJDDil"
      }
    },
    {
      "cell_type": "code",
      "source": [
        "X_sem.head(5)"
      ],
      "metadata": {
        "id": "NzAOgNA0kaJW"
      },
      "execution_count": null,
      "outputs": []
    },
    {
      "cell_type": "code",
      "source": [
        "#standard scalling the data\n",
        "scaler = StandardScaler()\n",
        "X = scaler.fit_transform(X_sem)"
      ],
      "metadata": {
        "id": "rCRt0jJ1mAAz"
      },
      "execution_count": null,
      "outputs": []
    },
    {
      "cell_type": "markdown",
      "source": [
        "### 8. Data Splitting"
      ],
      "metadata": {
        "id": "BhH2vgX9EjGr"
      }
    },
    {
      "cell_type": "code",
      "source": [
        "# Split your data to train and test. Choose Splitting ratio wisely.\n",
        "X_train, X_test, y_train, y_test = train_test_split( X,y , test_size = 0.2, random_state = 5) \n",
        "print(X_train.shape)\n",
        "print(X_test.shape)"
      ],
      "metadata": {
        "id": "0CTyd2UwEyNM"
      },
      "execution_count": null,
      "outputs": []
    },
    {
      "cell_type": "markdown",
      "source": [
        "## ***7. ML Model Implementation***"
      ],
      "metadata": {
        "id": "VfCC591jGiD4"
      }
    },
    {
      "cell_type": "markdown",
      "source": [
        "### ML Model - 1"
      ],
      "metadata": {
        "id": "OB4l2ZhMeS1U"
      }
    },
    {
      "cell_type": "code",
      "source": [
        "# ML Model - 1 Implementation\n",
        "\n",
        "# Fit the Algorithm\n",
        "\n",
        "# Predict on the model"
      ],
      "metadata": {
        "id": "7ebyywQieS1U"
      },
      "execution_count": null,
      "outputs": []
    },
    {
      "cell_type": "code",
      "source": [
        "#fitting linear regression\n",
        "Mod_lin_reg=LinearRegression()\n",
        "Mod_lin_reg.fit(X_train,y_train)"
      ],
      "metadata": {
        "id": "A1_Sya49nvPI"
      },
      "execution_count": null,
      "outputs": []
    },
    {
      "cell_type": "code",
      "source": [
        "Mod_lin_reg.score(X_train, y_train)"
      ],
      "metadata": {
        "id": "nxDWvS8poir3"
      },
      "execution_count": null,
      "outputs": []
    },
    {
      "cell_type": "code",
      "source": [
        "lin_y_pred_train = Mod_lin_reg.predict(X_train)\n",
        "lin_y_pred_test = Mod_lin_reg.predict(X_test)\n"
      ],
      "metadata": {
        "id": "ymIMVTWlpuFR"
      },
      "execution_count": null,
      "outputs": []
    },
    {
      "cell_type": "code",
      "source": [
        "plt.figure(figsize=(10,6))\n",
        "plt.subplot(1,1,1)\n",
        "sns.distplot(10**(y_test), kde=False, color=\"black\", label=\"Test\")\n",
        "plt.subplot(1,1,1)\n",
        "sns.distplot(10**(lin_y_pred_test), kde=False, color=\"indigo\", label=\"Prediction\")\n",
        "plt.legend()\n",
        "plt.title(\"Test VS Prediction\")"
      ],
      "metadata": {
        "id": "GVAQheeZwu8D"
      },
      "execution_count": null,
      "outputs": []
    },
    {
      "cell_type": "code",
      "source": [
        "#Linear Regression Model Evaluation(Train Data)\n",
        "lr_train_mse  = mean_squared_error(10**(y_train), 10**(lin_y_pred_train))\n",
        "print(\"Train lr MSE :\" , lr_train_mse)\n",
        "\n",
        "lr_train_r2 = r2_score(10**(y_train), 10**(lin_y_pred_train))\n",
        "print(\"Train lr R2 :\" ,lr_train_r2)\n",
        "\n",
        "lr_train_Adjusted_R2 = 1-(1-r2_score(10**(y_train), 10**(lin_y_pred_train)))*((X_train.shape[0]-1)/(X_train.shape[0]-X_train.shape[1]-1))\n",
        "print(\"Train lr Adjusted_R2 :\" ,lr_train_Adjusted_R2)"
      ],
      "metadata": {
        "id": "nslqH9pDx_wp"
      },
      "execution_count": null,
      "outputs": []
    },
    {
      "cell_type": "code",
      "source": [
        "#Linear Regression Model Evaluation(Test Data)\n",
        "lr_test_mse  = mean_squared_error(10**(y_test), 10**(lin_y_pred_test))\n",
        "print(\"Test MSE :\" , lr_test_mse)\n",
        "\n",
        "lr_test_r2 = r2_score(10**(y_test), 10**(lin_y_pred_test))\n",
        "print(\"Test R2 :\" ,lr_test_r2)\n",
        "\n",
        "lr_test_Adjusted_R2 = 1-(1-r2_score(10**(y_test), 10**(lin_y_pred_test)))*((X_test.shape[0]-1)/(X_test.shape[0]-X_test.shape[1]-1))\n",
        "print(\"Train lr Adjusted_R2 :\" ,lr_train_Adjusted_R2)\n"
      ],
      "metadata": {
        "id": "FYAOJV0gye4_"
      },
      "execution_count": null,
      "outputs": []
    },
    {
      "cell_type": "markdown",
      "source": [
        "## 1. Explain the ML Model used and it's performance using Evaluation metric Score Chart."
      ],
      "metadata": {
        "id": "ArJBuiUVfxKd"
      }
    },
    {
      "cell_type": "code",
      "source": [
        "# Visualizing evaluation Metric Score chart"
      ],
      "metadata": {
        "id": "rqD5ZohzfxKe"
      },
      "execution_count": null,
      "outputs": []
    },
    {
      "cell_type": "markdown",
      "source": [
        "#### 2. Cross- Validation & Hyperparameter Tuning"
      ],
      "metadata": {
        "id": "4qY1EAkEfxKe"
      }
    },
    {
      "cell_type": "code",
      "source": [
        "# ML Model - 1 Implementation with hyperparameter optimization techniques (i.e., GridSearch CV, RandomSearch CV, Bayesian Optimization etc.)\n",
        "\n",
        "# Fit the Algorithm\n",
        "\n",
        "# Predict on the model"
      ],
      "metadata": {
        "id": "Dy61ujd6fxKe"
      },
      "execution_count": null,
      "outputs": []
    },
    {
      "cell_type": "markdown",
      "source": [
        "**Ridge Regression**"
      ],
      "metadata": {
        "id": "7-oaqF0NLTks"
      }
    },
    {
      "cell_type": "code",
      "source": [
        "ridge = Ridge()\n",
        "parameters = {'alpha': [1e-2,1e-1,1,5,10,20,30,40,45,50,55,60,100,500,600,700,800,900,1000,5000,6000,10000]}\n",
        "ridge_regression = GridSearchCV(ridge, parameters, scoring='r2', cv=5)\n",
        "ridge_regression.fit(X_train,y_train)"
      ],
      "metadata": {
        "id": "kr5YS1I0KbJk"
      },
      "execution_count": null,
      "outputs": []
    },
    {
      "cell_type": "code",
      "source": [
        "ridge_regression.best_estimator_.coef_"
      ],
      "metadata": {
        "id": "jUKQaOtjKxDd"
      },
      "execution_count": null,
      "outputs": []
    },
    {
      "cell_type": "code",
      "source": [
        "print('Best fit alpha value is:' ,ridge_regression.best_params_)\n",
        "print('R2 score using the same alpha is :', ridge_regression.best_score_)"
      ],
      "metadata": {
        "id": "JFiXwewTLDhU"
      },
      "execution_count": null,
      "outputs": []
    },
    {
      "cell_type": "code",
      "source": [
        "ridge_y_pred_train=ridge_regression.predict(X_train)\n",
        "ridge_y_pred_test=ridge_regression.predict(X_test)"
      ],
      "metadata": {
        "id": "e6lDCn7TLYD0"
      },
      "execution_count": null,
      "outputs": []
    },
    {
      "cell_type": "code",
      "source": [
        "plt.figure(figsize=(10,6))\n",
        "plt.subplot(1,1,1)\n",
        "sns.distplot(10**(y_test), kde=False, color=\"black\", label=\"Test\")\n",
        "plt.subplot(1,1,1)\n",
        "sns.distplot(10**(ridge_y_pred_test), kde=False, color=\"indigo\", label=\"Prediction\")\n",
        "plt.legend()\n",
        "plt.title(\"Test VS Prediction\")"
      ],
      "metadata": {
        "id": "PRKNwT4rXX_m"
      },
      "execution_count": null,
      "outputs": []
    },
    {
      "cell_type": "code",
      "source": [
        "#Ridge Regression Model Evaluation(Train Data)\n",
        "ridge_train_mse=mean_squared_error(10**(y_train),10**(ridge_y_pred_train))\n",
        "print(\"Train MSE :\",ridge_train_mse)\n",
        "ridge_train_r2=r2_score(10**(y_train),10**(ridge_y_pred_train))\n",
        "print(\"Train R2 :\",ridge_train_r2)\n",
        "ridge_train_Adjusted_R2 = 1-(1-r2_score(10**(y_train), 10**(ridge_y_pred_train)))*((X_train.shape[0]-1)/(X_train.shape[0]-X_train.shape[1]-1))\n",
        "print(\"Train ridge Adjusted_R2 :\" ,ridge_train_Adjusted_R2)\n"
      ],
      "metadata": {
        "id": "GlnjARSYcOqZ"
      },
      "execution_count": null,
      "outputs": []
    },
    {
      "cell_type": "code",
      "source": [
        "#Ridge Regression Model Evaluation(Test Data)\n",
        "ridge_test_mse  = mean_squared_error(10**(y_test), 10**(ridge_y_pred_test))\n",
        "print(\"Test MSE :\" , ridge_test_mse)\n",
        "\n",
        "ridge_test_r2 = r2_score(10**(y_test), 10**(ridge_y_pred_test))\n",
        "print(\"Test R2 :\" ,ridge_test_r2)\n",
        "\n",
        "ridge_test_Adjusted_R2 = 1-(1-r2_score(10**(y_test), 10**(ridge_y_pred_test)))*((X_test.shape[0]-1)/(X_test.shape[0]-X_test.shape[1]-1))\n",
        "print(\"Train ridge Adjusted_R2 :\" ,ridge_test_Adjusted_R2)"
      ],
      "metadata": {
        "id": "KCM4N-9td6P_"
      },
      "execution_count": null,
      "outputs": []
    },
    {
      "cell_type": "code",
      "source": [
        "#Lasso Regression\n",
        "lasso=Lasso(max_iter=500)\n",
        "parameter={'alpha': [1e-15,1e-13,1e-10,1e-8,1e-5,1e-4,1e-3,1e-2,1e-1,1,5,10]}\n",
        "lasso_regression=GridSearchCV(lasso,parameter,scoring='r2',cv=2)"
      ],
      "metadata": {
        "id": "zcCgwzrx5ARg"
      },
      "execution_count": null,
      "outputs": []
    },
    {
      "cell_type": "code",
      "source": [
        "lasso_regression.fit(X_train,y_train)"
      ],
      "metadata": {
        "id": "ojc7t24S51Ww"
      },
      "execution_count": null,
      "outputs": []
    },
    {
      "cell_type": "code",
      "source": [
        "lasso_regression.best_estimator_.coef_"
      ],
      "metadata": {
        "id": "I_u86Bvx8xRI"
      },
      "execution_count": null,
      "outputs": []
    },
    {
      "cell_type": "code",
      "source": [
        "print('Best fit alpha value is:' ,lasso_regression.best_params_)\n",
        "print('R2 score using the same alpha is :', lasso_regression.best_score_)"
      ],
      "metadata": {
        "id": "F3hUkWiA8Jpd"
      },
      "execution_count": null,
      "outputs": []
    },
    {
      "cell_type": "code",
      "source": [
        "lasso_y_pred_train=lasso_regression.predict(X_train)\n",
        "lasso_y_pred_test=lasso_regression.predict(X_test)"
      ],
      "metadata": {
        "id": "IEduXtQw8mTF"
      },
      "execution_count": null,
      "outputs": []
    },
    {
      "cell_type": "code",
      "source": [
        "plt.figure(figsize=(10,6))\n",
        "plt.subplot(1,1,1)\n",
        "sns.distplot(10**(y_test), kde=False, color=\"black\", label=\"Test\")\n",
        "plt.subplot(1,1,1)\n",
        "sns.distplot(10**(lasso_y_pred_test), kde=False, color=\"indigo\", label=\"Prediction\")\n",
        "plt.legend()\n",
        "plt.title(\"Test VS Prediction\")"
      ],
      "metadata": {
        "id": "T7XdKTfZ9MyB"
      },
      "execution_count": null,
      "outputs": []
    },
    {
      "cell_type": "code",
      "source": [
        "#Lasso Regression Model Evaluation(Train Data)\n",
        "lasso_train_mse=mean_squared_error(10**(y_train),10**(lasso_y_pred_train))\n",
        "print(\"Train_lasso_MSE :\",lasso_train_mse)\n",
        "lasso_train_r2=r2_score(10**(y_train),10**(lasso_y_pred_train))\n",
        "print(\"Train_lasso_R2 :\",lasso_train_r2)\n",
        "lasso_train_Adjusted_R2 = 1-(1-r2_score(10**(y_train), 10**(lasso_y_pred_train)))*((X_train.shape[0]-1)/(X_train.shape[0]-X_train.shape[1]-1))\n",
        "print(\"Train _lasso_Adjusted_R2 :\" ,lasso_train_Adjusted_R2)"
      ],
      "metadata": {
        "id": "zzgF4jj69VFg"
      },
      "execution_count": null,
      "outputs": []
    },
    {
      "cell_type": "code",
      "source": [
        "#Lasso Regression Model Evaluation(test Data)\n",
        "lasso_test_mse=mean_squared_error(10**(y_test),10**(lasso_y_pred_test))\n",
        "print(\"Test lasso MSE :\",lasso_test_mse)\n",
        "\n",
        "lasso_test_r2=r2_score(10**(y_test),10**(lasso_y_pred_test))\n",
        "print(\"Test lasso R2 :\",lasso_test_r2)\n",
        "\n",
        "lasso_test_Adjusted_R2 = 1-(1-r2_score(10**(y_test), 10**(lasso_y_pred_test)))*((X_test.shape[0]-1)/(X_test.shape[0]-X_test.shape[1]-1))\n",
        "print(\"Test lasso Adjusted_R2 :\" ,lasso_test_Adjusted_R2)"
      ],
      "metadata": {
        "id": "wq1pOJ-_-tKv"
      },
      "execution_count": null,
      "outputs": []
    },
    {
      "cell_type": "code",
      "source": [
        "# Models Summary for the Train Test  data\n",
        "models=['Linear Regression','Ridge Regression','Lasso Regression']\n",
        "train_mse=[lr_train_mse, ridge_train_mse,lasso_train_mse]\n",
        "train_r2=[lr_train_r2, ridge_train_r2, lasso_train_r2]\n",
        "train_Adjusted_R2 = [lr_train_Adjusted_R2,ridge_train_Adjusted_R2,lasso_train_Adjusted_R2]"
      ],
      "metadata": {
        "id": "gDy6eAmgAITw"
      },
      "execution_count": null,
      "outputs": []
    },
    {
      "cell_type": "code",
      "source": [
        "test_mse= [lr_test_mse, ridge_test_mse, lasso_test_mse]\n",
        "test_r2= [lr_test_r2,ridge_test_r2, lasso_test_r2]\n",
        "test_Adjusted_R2 = [lr_test_Adjusted_R2,ridge_test_Adjusted_R2,lasso_test_Adjusted_R2]\n",
        "model_comparision=pd.DataFrame({'Model':models,\n",
        "                                'Train MSE':train_mse,\n",
        "                                'Train R2':train_r2,\n",
        "                                'Train Adjusted_R2':train_Adjusted_R2,\n",
        "                                'Test MSE':test_mse,\n",
        "                                'Test R2':test_r2,\n",
        "                                'Test_Adjusted_R2':test_Adjusted_R2})\n",
        "model_comparision"
      ],
      "metadata": {
        "id": "Popqu_6fANAY"
      },
      "execution_count": null,
      "outputs": []
    },
    {
      "cell_type": "code",
      "source": [
        "model_comparision.plot.bar(x='Model', y=['Train R2' , 'Test R2' , 'Train Adjusted_R2','Test_Adjusted_R2'], title = 'Results' , figsize= (20,8))"
      ],
      "metadata": {
        "id": "xaznWgu-KkYp"
      },
      "execution_count": null,
      "outputs": []
    },
    {
      "cell_type": "code",
      "source": [
        "feature_coef_df= pd.DataFrame({'Variables': X_sem.columns,\n",
        "                             'Variable_coef': list(lasso_regression.best_estimator_.coef_)})\n",
        "feature_coef_df"
      ],
      "metadata": {
        "id": "DSK2MhOpM-FM"
      },
      "execution_count": null,
      "outputs": []
    },
    {
      "cell_type": "code",
      "source": [
        "plt.figure(figsize=(20,8))\n",
        "plt.title('Feature Importance', fontsize=20)\n",
        "sns.barplot(x=\"Variable_coef\",y='Variables', data=feature_coef_df, orient = 'h')\n",
        "plt.show()"
      ],
      "metadata": {
        "id": "VcNvdGnuN2iV"
      },
      "execution_count": null,
      "outputs": []
    },
    {
      "cell_type": "markdown",
      "source": [
        "## ***8.*** ***Future Work (Optional)***"
      ],
      "metadata": {
        "id": "EyNgTHvd2WFk"
      }
    },
    {
      "cell_type": "markdown",
      "source": [
        "### 1. Save the best performing ml model in a pickle file or joblib file format for deployment process.\n"
      ],
      "metadata": {
        "id": "KH5McJBi2d8v"
      }
    },
    {
      "cell_type": "code",
      "source": [
        "# Save the File"
      ],
      "metadata": {
        "id": "bQIANRl32f4J"
      },
      "execution_count": null,
      "outputs": []
    },
    {
      "cell_type": "markdown",
      "source": [
        "### 2. Again Load the saved model file and try to predict unseen data for a sanity check.\n"
      ],
      "metadata": {
        "id": "iW_Lq9qf2h6X"
      }
    },
    {
      "cell_type": "code",
      "source": [
        "# Load the File and predict unseen data."
      ],
      "metadata": {
        "id": "oEXk9ydD2nVC"
      },
      "execution_count": null,
      "outputs": []
    },
    {
      "cell_type": "markdown",
      "source": [
        "### ***Congrats! Your model is successfully created and ready for deployment on a live server for a real user interaction !!!***"
      ],
      "metadata": {
        "id": "-Kee-DAl2viO"
      }
    },
    {
      "cell_type": "markdown",
      "source": [
        "# **Conclusion**\n",
        "\n",
        "1) Depedent variable (Appliance energy consumption) has little correlation between feature and among those only  outside_building_temp,Windspeed,Tdewpoint,rv1,Month,Day,Hour are used for model prediction after feature seletion process is done.\n",
        "\n",
        "2)Hour variable has large positive corelation in predicting dependent variable.\n",
        "\n",
        "3)Even after hyper parameter tunning on regularization,our model had almost same results in all regularization.\n",
        "\n",
        "4)model was good beteen train and test as results for test and train were almost same.\n"
      ],
      "metadata": {
        "id": "3h-Z6yDFweGf"
      }
    },
    {
      "cell_type": "markdown",
      "source": [
        "### ***Hurrah! You have successfully completed your Machine Learning Capstone Project !!!***"
      ],
      "metadata": {
        "id": "gIfDvo9L0UH2"
      }
    }
  ]
}